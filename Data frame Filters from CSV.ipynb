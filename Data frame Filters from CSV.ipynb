{
 "cells": [
  {
   "cell_type": "code",
   "execution_count": 2,
   "metadata": {},
   "outputs": [
    {
     "name": "stdout",
     "output_type": "stream",
     "text": [
      "DataFrame[_c0: string]\n"
     ]
    }
   ],
   "source": [
    "df = spark.read.csv('appl_stock.csv')\n",
    "print(df)"
   ]
  },
  {
   "cell_type": "code",
   "execution_count": 3,
   "metadata": {},
   "outputs": [
    {
     "data": {
      "text/plain": [
       "Row(_c0='PK\\x03\\x04\\x14\\x00\\x08\\x08\\x08\\x00���Q\\x00\\x00\\x00\\x00\\x00\\x00\\x00\\x00\\x00\\x00\\x00\\x00\\x18\\x00\\x00\\x00xl/drawings/drawing1.xml��]n�0\\x0c\\x07�\\x13�\\x0eU�iZ\\x18\\x13C\\x14^�N0\\x0e�%n\\x1b���\\x0e��~�J6i{\\x01\\x1em�?���nt��Db\\x13|#�\\x12\\x05z\\x15��]#\\x0e�o��(8��`��F\\\\��n��\\x195�ϼ�\"�{^��\\x11}��ZJV=:�2\\x0c�Ӵ')"
      ]
     },
     "execution_count": 3,
     "metadata": {},
     "output_type": "execute_result"
    }
   ],
   "source": [
    "df.head()"
   ]
  },
  {
   "cell_type": "code",
   "execution_count": null,
   "metadata": {},
   "outputs": [],
   "source": []
  }
 ],
 "metadata": {
  "kernelspec": {
   "display_name": "Python 3",
   "language": "python",
   "name": "python3"
  },
  "language_info": {
   "codemirror_mode": {
    "name": "ipython",
    "version": 3
   },
   "file_extension": ".py",
   "mimetype": "text/x-python",
   "name": "python",
   "nbconvert_exporter": "python",
   "pygments_lexer": "ipython3",
   "version": "3.9.1"
  }
 },
 "nbformat": 4,
 "nbformat_minor": 4
}
